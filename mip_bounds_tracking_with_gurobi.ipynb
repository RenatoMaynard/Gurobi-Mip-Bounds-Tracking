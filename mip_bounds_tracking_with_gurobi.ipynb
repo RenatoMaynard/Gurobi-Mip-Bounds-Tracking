{
 "cells": [
  {
   "cell_type": "markdown",
   "id": "36b4e7f6",
   "metadata": {},
   "source": [
    "# Assignment Problem "
   ]
  },
  {
   "cell_type": "markdown",
   "id": "3a0d48ac",
   "metadata": {},
   "source": [
    "\n",
    "\\begin{alignat}{3}\n",
    "&\\text{Minimize}   &\\quad& \\sum_{i=1}^{N} \\sum_{j=1}^{N} c_{ij} x_{ij} & \\\\\n",
    "&\\text{subject to} &      & \\sum_{j=1}^{N} x_{ij} = 1  &\\quad& \\forall i = 1, \\ldots, N \\\\\n",
    "&                  &      & \\sum_{i=1}^{N} x_{ij} = 1  &\\quad& \\forall j = 1, \\ldots, N \\\\\n",
    "&                  &      & x_{ij} \\in \\{0, 1\\}        &\\quad& \\forall i, j = 1, \\ldots, N\n",
    "\\end{alignat}\n",
    "\n",
    "### Where:\n",
    "- $N$ is the number of tasks (and workers).\n",
    "- $c_{ij}$ is the cost of assigning task $ i $ to worker $ j $.\n",
    "- $x_{ij}$ is a binary variable, equal to 1 if task $ i $ is assigned to worker $ j $, and 0 otherwise.\n"
   ]
  },
  {
   "cell_type": "markdown",
   "id": "c3e27314",
   "metadata": {},
   "source": [
    "### Libraries"
   ]
  },
  {
   "cell_type": "code",
   "execution_count": 1,
   "id": "c571f0e9",
   "metadata": {},
   "outputs": [],
   "source": [
    "import gurobipy as gp\n",
    "from gurobipy import GRB, quicksum, Model\n",
    "import matplotlib.pyplot as plt\n",
    "import numpy as np\n",
    "import time"
   ]
  },
  {
   "cell_type": "markdown",
   "id": "109d16c1",
   "metadata": {},
   "source": [
    "### Plotting function"
   ]
  },
  {
   "cell_type": "code",
   "execution_count": 2,
   "id": "0e22a79c",
   "metadata": {},
   "outputs": [],
   "source": [
    "def plot_bounds_over_time(time_data, upper_bounds, lower_bounds):\n",
    "    \"\"\"\n",
    "    Plots the upper and lower bounds over time.\n",
    "    \"\"\"\n",
    "    plt.figure(figsize=(10, 6))\n",
    "    plt.plot(time_data, lower_bounds, color='red', marker='o', label=\"Lower Bound\")\n",
    "    plt.plot(time_data, upper_bounds, color='blue', marker='x', label=\"Upper Bound\")\n",
    "    plt.title('Upper vs Lower Bound over Time', fontsize=14)\n",
    "    plt.xlabel('Time (s)', fontsize=12)\n",
    "    plt.ylabel('Objective Value', fontsize=12)\n",
    "    plt.legend()\n",
    "    plt.grid(True)\n",
    "    plt.show()"
   ]
  },
  {
   "cell_type": "markdown",
   "id": "75360720",
   "metadata": {},
   "source": [
    "### Parameters"
   ]
  },
  {
   "cell_type": "code",
   "execution_count": 3,
   "id": "1ea101f3",
   "metadata": {},
   "outputs": [],
   "source": [
    "cost_matrix = np.array([\n",
    "    [12, 7, 9],\n",
    "    [8, 7, 6],\n",
    "    [7, 17, 12]\n",
    "])\n",
    "\n",
    "N = cost_matrix.shape[0]  # Number of tasks/workers\n",
    "time_limit = 60  # Set a time limit in seconds"
   ]
  },
  {
   "cell_type": "markdown",
   "id": "5587a04e",
   "metadata": {},
   "source": [
    "### Create the Gurobi Model"
   ]
  },
  {
   "cell_type": "code",
   "execution_count": 4,
   "id": "82114b21",
   "metadata": {},
   "outputs": [
    {
     "name": "stdout",
     "output_type": "stream",
     "text": [
      "Set parameter Username\n",
      "Academic license - for non-commercial use only - expires 2026-03-13\n",
      "Set parameter TimeLimit to value 60\n"
     ]
    }
   ],
   "source": [
    "m = Model(\"SimpleAssignment\")\n",
    "m.setParam('TimeLimit', time_limit)"
   ]
  },
  {
   "cell_type": "markdown",
   "id": "974fe176",
   "metadata": {},
   "source": [
    "### Variables"
   ]
  },
  {
   "cell_type": "code",
   "execution_count": 5,
   "id": "e1cd2ff5",
   "metadata": {},
   "outputs": [],
   "source": [
    "x = m.addVars(N, N, vtype=GRB.BINARY, name=\"x\")"
   ]
  },
  {
   "cell_type": "markdown",
   "id": "9218c17c",
   "metadata": {},
   "source": [
    "### Model\n"
   ]
  },
  {
   "cell_type": "code",
   "execution_count": 6,
   "id": "3eb3e251",
   "metadata": {},
   "outputs": [
    {
     "data": {
      "text/plain": [
       "{0: <gurobi.Constr *Awaiting Model Update*>,\n",
       " 1: <gurobi.Constr *Awaiting Model Update*>,\n",
       " 2: <gurobi.Constr *Awaiting Model Update*>}"
      ]
     },
     "execution_count": 6,
     "metadata": {},
     "output_type": "execute_result"
    }
   ],
   "source": [
    "# ---------------------  Objective Function ---------------------\n",
    "m.setObjective(quicksum(cost_matrix[i, j] * x[i, j] for i in range(N) for j in range(N)), GRB.MINIMIZE)\n",
    "\n",
    "# ---------------------  Constraints ---------------------\n",
    "# 1) Each task assigned to exactly one worker\n",
    "m.addConstrs((x.sum(i, '*') == 1 for i in range(N)), name=\"TaskAssignment\")\n",
    "\n",
    "# 2) Each worker assigned to exactly one task\n",
    "m.addConstrs((x.sum('*', j) == 1 for j in range(N)), name=\"WorkerAssignment\")"
   ]
  },
  {
   "cell_type": "markdown",
   "id": "3836137a",
   "metadata": {},
   "source": [
    "### Callback for Collecting Bounds"
   ]
  },
  {
   "cell_type": "code",
   "execution_count": 7,
   "id": "2e6b23b2",
   "metadata": {},
   "outputs": [],
   "source": [
    "def data_cb(model, where):\n",
    "    if where == GRB.Callback.MIP:\n",
    "        cur_obj = model.cbGet(GRB.Callback.MIP_OBJBST)\n",
    "        cur_bd = model.cbGet(GRB.Callback.MIP_OBJBND)\n",
    "        if model._obj != cur_obj or model._bd != cur_bd:\n",
    "            model._obj = cur_obj\n",
    "            model._bd = cur_bd\n",
    "            model._data.append([time.time() - model._start, cur_obj, cur_bd])"
   ]
  },
  {
   "cell_type": "markdown",
   "id": "8a4a1c85",
   "metadata": {},
   "source": [
    "### Solve the Model and Collect Data"
   ]
  },
  {
   "cell_type": "code",
   "execution_count": 8,
   "id": "4abf4c4b",
   "metadata": {},
   "outputs": [
    {
     "name": "stdout",
     "output_type": "stream",
     "text": [
      "Gurobi Optimizer version 11.0.0 build v11.0.0rc2 (win64 - Windows 11+.0 (26100.2))\n",
      "\n",
      "CPU model: AMD Ryzen 7 4800H with Radeon Graphics, instruction set [SSE2|AVX|AVX2]\n",
      "Thread count: 8 physical cores, 16 logical processors, using up to 16 threads\n",
      "\n",
      "Optimize a model with 6 rows, 9 columns and 18 nonzeros\n",
      "Model fingerprint: 0xf7b8a409\n",
      "Variable types: 0 continuous, 9 integer (9 binary)\n",
      "Coefficient statistics:\n",
      "  Matrix range     [1e+00, 1e+00]\n",
      "  Objective range  [6e+00, 2e+01]\n",
      "  Bounds range     [1e+00, 1e+00]\n",
      "  RHS range        [1e+00, 1e+00]\n",
      "Presolve time: 0.00s\n",
      "Presolved: 6 rows, 9 columns, 18 nonzeros\n",
      "Variable types: 0 continuous, 9 integer (9 binary)\n",
      "Found heuristic solution: objective 20.0000000\n",
      "\n",
      "Root relaxation: cutoff, 3 iterations, 0.00 seconds (0.00 work units)\n",
      "\n",
      "    Nodes    |    Current Node    |     Objective Bounds      |     Work\n",
      " Expl Unexpl |  Obj  Depth IntInf | Incumbent    BestBd   Gap | It/Node Time\n",
      "\n",
      "     0     0     cutoff    0        20.00000   20.00000  0.00%     -    0s\n",
      "\n",
      "Explored 1 nodes (3 simplex iterations) in 0.01 seconds (0.00 work units)\n",
      "Thread count was 16 (of 16 available processors)\n",
      "\n",
      "Solution count 1: 20 \n",
      "\n",
      "Optimal solution found (tolerance 1.00e-04)\n",
      "Best objective 2.000000000000e+01, best bound 2.000000000000e+01, gap 0.0000%\n",
      "\n",
      "User-callback calls 135, time in user-callback 0.01 sec\n"
     ]
    }
   ],
   "source": [
    "m._obj, m._bd, m._data = None, None, []\n",
    "m._start = time.time()\n",
    "m.optimize(callback=data_cb)"
   ]
  },
  {
   "cell_type": "markdown",
   "id": "bb6bce4f",
   "metadata": {},
   "source": [
    "### Process collected data"
   ]
  },
  {
   "cell_type": "code",
   "execution_count": 9,
   "id": "3f4b3017",
   "metadata": {},
   "outputs": [],
   "source": [
    "time_data = [entry[0] for entry in m._data]\n",
    "upper_bounds = [entry[1] for entry in m._data]\n",
    "lower_bounds = [entry[2] for entry in m._data]"
   ]
  },
  {
   "cell_type": "markdown",
   "id": "31b08e53",
   "metadata": {},
   "source": [
    "### Plot"
   ]
  },
  {
   "cell_type": "code",
   "execution_count": 10,
   "id": "f824d529",
   "metadata": {},
   "outputs": [
    {
     "data": {
      "image/png": "[encoded data removed]",
      "text/plain": [
       "<Figure size 1000x600 with 1 Axes>"
      ]
     },
     "metadata": {},
     "output_type": "display_data"
    }
   ],
   "source": [
    "plot_bounds_over_time(time_data, upper_bounds, lower_bounds)"
   ]
  },
  {
   "cell_type": "markdown",
   "id": "a4c0c451",
   "metadata": {},
   "source": [
    "### Display Solution"
   ]
  },
  {
   "cell_type": "code",
   "execution_count": 11,
   "id": "fc775b01",
   "metadata": {},
   "outputs": [
    {
     "name": "stdout",
     "output_type": "stream",
     "text": [
      "\n",
      "######################################################################\n",
      "Objective Value: 20.0\n",
      "Final Upper Bound: 20.0\n",
      "Final Lower Bound: 20.0\n",
      "\n",
      "Assignments:\n",
      "  Task 0 assigned to Worker 1\n",
      "  Task 1 assigned to Worker 2\n",
      "  Task 2 assigned to Worker 0\n",
      "######################################################################\n",
      "\n"
     ]
    }
   ],
   "source": [
    "print(\"\\n\" + \"#\" * 70)\n",
    "if m.SolCount > 0:\n",
    "    print(f\"Objective Value: {round(m.ObjVal, 2)}\")\n",
    "    print(f\"Final Upper Bound: {upper_bounds[-1]}\")\n",
    "    print(f\"Final Lower Bound: {lower_bounds[-1]}\\n\")\n",
    "    print(\"Assignments:\")\n",
    "    solution = m.getAttr('x', x)\n",
    "    for i in range(N):\n",
    "        for j in range(N):\n",
    "            if solution[i, j] > 0.5:\n",
    "                print(f\"  Task {i} assigned to Worker {j}\")\n",
    "else:\n",
    "    print(\"No feasible solution found within time limit.\")\n",
    "print(\"#\" * 70 + \"\\n\")"
   ]
  },
  {
   "cell_type": "raw",
   "id": "a5f12841",
   "metadata": {},
   "source": []
  }
 ],
 "metadata": {
  "kernelspec": {
   "display_name": "Python 3 (ipykernel)",
   "language": "python",
   "name": "python3"
  },
  "language_info": {
   "codemirror_mode": {
    "name": "ipython",
    "version": 3
   },
   "file_extension": ".py",
   "mimetype": "text/x-python",
   "name": "python",
   "nbconvert_exporter": "python",
   "pygments_lexer": "ipython3",
   "version": "3.11.5"
  }
 },
 "nbformat": 4,
 "nbformat_minor": 5
}
